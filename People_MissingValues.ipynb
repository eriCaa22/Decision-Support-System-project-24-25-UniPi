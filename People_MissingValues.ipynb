{
 "cells": [
  {
   "cell_type": "code",
   "execution_count": 1,
   "id": "b37a7129",
   "metadata": {},
   "outputs": [],
   "source": [
    "import csv\n",
    "\n",
    "with open('C:/Users/al797/Desktop/People.csv', mode='r') as file:\n",
    "    reader = csv.DictReader(file)\n",
    "    People = [row for row in reader]"
   ]
  },
  {
   "cell_type": "code",
   "execution_count": 2,
   "id": "56f875e6",
   "metadata": {},
   "outputs": [
    {
     "name": "stdout",
     "output_type": "stream",
     "text": [
      "Colonna 'PERSON_ID': 0 valori mancanti\n",
      "Colonna 'PERSON_TYPE': 0 valori mancanti\n",
      "Colonna 'RD_NO': 0 valori mancanti\n",
      "Colonna 'VEHICLE_ID': 10696 valori mancanti\n",
      "Colonna 'CRASH_DATE': 0 valori mancanti\n",
      "Colonna 'CITY': 143920 valori mancanti\n",
      "Colonna 'STATE': 141976 valori mancanti\n",
      "Colonna 'SEX': 7154 valori mancanti\n",
      "Colonna 'AGE': 160981 valori mancanti\n",
      "Colonna 'SAFETY_EQUIPMENT': 1410 valori mancanti\n",
      "Colonna 'AIRBAG_DEPLOYED': 10452 valori mancanti\n",
      "Colonna 'EJECTION': 6705 valori mancanti\n",
      "Colonna 'INJURY_CLASSIFICATION': 296 valori mancanti\n",
      "Colonna 'DRIVER_ACTION': 109766 valori mancanti\n",
      "Colonna 'DRIVER_VISION': 109884 valori mancanti\n",
      "Colonna 'PHYSICAL_CONDITION': 109501 valori mancanti\n",
      "Colonna 'BAC_RESULT': 108833 valori mancanti\n",
      "Colonna 'DAMAGE_CATEGORY': 0 valori mancanti\n",
      "Colonna 'DAMAGE': 74309 valori mancanti\n"
     ]
    }
   ],
   "source": [
    "\n",
    "# Inizializza un dizionario per contare i valori mancanti per ogni colonna\n",
    "missing_counts = {column: 0 for column in People[0].keys()}\n",
    "\n",
    "# Itera attraverso le righe per contare i valori mancanti\n",
    "for row in People:\n",
    "    for column, value in row.items():\n",
    "        if value == '' or value is None:  # Verifica se il valore è vuoto o `None`\n",
    "            missing_counts[column] += 1\n",
    "\n",
    "# Stampa i risultati\n",
    "for column, count in missing_counts.items():\n",
    "    print(f\"Colonna '{column}': {count} valori mancanti\")"
   ]
  },
  {
   "cell_type": "code",
   "execution_count": 3,
   "id": "b16b7283",
   "metadata": {},
   "outputs": [],
   "source": [
    "def replace_nulls(ds, column_name, replacement_value):\n",
    "    \n",
    "    for record in ds:\n",
    "        value = record[column_name].strip().lower() if record[column_name] else None\n",
    "        \n",
    "        if value in [None, \"\", \"null\", \"none\"]:\n",
    "            record[column_name] = replacement_value"
   ]
  },
  {
   "cell_type": "markdown",
   "id": "f7f37859",
   "metadata": {},
   "source": [
    "# Vehicles ID"
   ]
  },
  {
   "cell_type": "markdown",
   "id": "5ae5105e",
   "metadata": {},
   "source": [
    "#### SOSTITUISCO CON 0 Poichè non hanno la targa(Pedoni/bici..)"
   ]
  },
  {
   "cell_type": "code",
   "execution_count": 4,
   "id": "21208a37",
   "metadata": {},
   "outputs": [
    {
     "name": "stdout",
     "output_type": "stream",
     "text": [
      "10696\n"
     ]
    }
   ],
   "source": [
    "null_count = 0\n",
    "for record in People:\n",
    "    if not record[\"VEHICLE_ID\"]:  \n",
    "        null_count += 1\n",
    "print(null_count)"
   ]
  },
  {
   "cell_type": "code",
   "execution_count": 5,
   "id": "fd5d1fd0",
   "metadata": {},
   "outputs": [],
   "source": [
    "replace_nulls(People, 'VEHICLE_ID', '0')"
   ]
  },
  {
   "cell_type": "code",
   "execution_count": 6,
   "id": "c9be00fc",
   "metadata": {},
   "outputs": [
    {
     "name": "stdout",
     "output_type": "stream",
     "text": [
      "0\n"
     ]
    }
   ],
   "source": [
    "null_count = 0\n",
    "for record in People:\n",
    "    if not record[\"VEHICLE_ID\"]:  \n",
    "        null_count += 1\n",
    "print(null_count)"
   ]
  },
  {
   "cell_type": "code",
   "execution_count": 7,
   "id": "18c40c59",
   "metadata": {},
   "outputs": [
    {
     "name": "stdout",
     "output_type": "stream",
     "text": [
      "Esempio di riga con VEHICLE_ID sostituito:\n",
      "{'PERSON_ID': 'O249412', 'PERSON_TYPE': 'PEDESTRIAN', 'RD_NO': 'JA490660', 'VEHICLE_ID': '0', 'CRASH_DATE': '10/29/2017 01:13:00 PM', 'CITY': 'CHICAGO', 'STATE': 'IL', 'SEX': 'F', 'AGE': '41.0', 'SAFETY_EQUIPMENT': 'NONE PRESENT', 'AIRBAG_DEPLOYED': '', 'EJECTION': '', 'INJURY_CLASSIFICATION': 'NONINCAPACITATING INJURY', 'DRIVER_ACTION': 'UNKNOWN', 'DRIVER_VISION': 'MOVING VEHICLES', 'PHYSICAL_CONDITION': 'NORMAL', 'BAC_RESULT': 'TEST NOT OFFERED', 'DAMAGE_CATEGORY': 'OVER $1,500', 'DAMAGE': '2195.9304875307234'}\n"
     ]
    }
   ],
   "source": [
    "import random\n",
    "\n",
    "# Trova tutte le righe che avevano un VEHICLE_ID mancante e sono state sostituite con '0'\n",
    "replaced_rows = [record for record in People if record[\"VEHICLE_ID\"] == '0']\n",
    "\n",
    "# Controlla una riga a caso tra quelle modificate, se esistono\n",
    "if replaced_rows:\n",
    "    random_row = random.choice(replaced_rows)\n",
    "    print(\"Esempio di riga con VEHICLE_ID sostituito:\")\n",
    "    print(random_row)\n",
    "else:\n",
    "    print(\"Non ci sono righe con VEHICLE_ID sostituito con '0'.\")"
   ]
  },
  {
   "cell_type": "markdown",
   "id": "36ecc923",
   "metadata": {},
   "source": [
    "# City"
   ]
  },
  {
   "cell_type": "markdown",
   "id": "0034f7c0",
   "metadata": {},
   "source": [
    "#### SOSTITUISCO con CHICAGO (perchè è la moda)"
   ]
  },
  {
   "cell_type": "code",
   "execution_count": 8,
   "id": "db7262a3",
   "metadata": {},
   "outputs": [
    {
     "name": "stdout",
     "output_type": "stream",
     "text": [
      "143920\n"
     ]
    }
   ],
   "source": [
    "null_count = 0\n",
    "for record in People:\n",
    "    if not record[\"CITY\"]:  \n",
    "        null_count += 1\n",
    "print(null_count)"
   ]
  },
  {
   "cell_type": "code",
   "execution_count": 9,
   "id": "fbb17582",
   "metadata": {},
   "outputs": [],
   "source": [
    "replace_nulls(People, 'CITY', 'CHICAGO')"
   ]
  },
  {
   "cell_type": "code",
   "execution_count": 10,
   "id": "a9b3bb3e",
   "metadata": {},
   "outputs": [
    {
     "name": "stdout",
     "output_type": "stream",
     "text": [
      "0\n"
     ]
    }
   ],
   "source": [
    "null_count = 0\n",
    "for record in People:\n",
    "    if not record[\"CITY\"]:  \n",
    "        null_count += 1\n",
    "print(null_count)"
   ]
  },
  {
   "cell_type": "markdown",
   "id": "1b19703b",
   "metadata": {},
   "source": [
    "# State"
   ]
  },
  {
   "cell_type": "markdown",
   "id": "f650a562",
   "metadata": {},
   "source": [
    "#### SOSTITUISCO con MODA"
   ]
  },
  {
   "cell_type": "code",
   "execution_count": 11,
   "id": "ae3dacc4",
   "metadata": {},
   "outputs": [
    {
     "name": "stdout",
     "output_type": "stream",
     "text": [
      "141976\n"
     ]
    }
   ],
   "source": [
    "null_count = 0\n",
    "for record in People:\n",
    "    if not record[\"STATE\"]:  \n",
    "        null_count += 1\n",
    "print(null_count)"
   ]
  },
  {
   "cell_type": "code",
   "execution_count": 12,
   "id": "647b9ef2",
   "metadata": {},
   "outputs": [],
   "source": [
    "from collections import Counter\n",
    "\n",
    "# Trova la moda della colonna 'STATE'\n",
    "state_values = [record['STATE'] for record in People if record['STATE'] and record['STATE'].strip().lower() not in [\"null\", \"none\"]]\n",
    "mode_state = Counter(state_values).most_common(1)[0][0]  # Trova il valore più comune\n"
   ]
  },
  {
   "cell_type": "code",
   "execution_count": 13,
   "id": "a24a3d9f",
   "metadata": {},
   "outputs": [
    {
     "data": {
      "text/plain": [
       "'IL'"
      ]
     },
     "execution_count": 13,
     "metadata": {},
     "output_type": "execute_result"
    }
   ],
   "source": [
    "mode_state"
   ]
  },
  {
   "cell_type": "code",
   "execution_count": 14,
   "id": "29a7fbc8",
   "metadata": {},
   "outputs": [],
   "source": [
    "replace_nulls(People, 'STATE', 'IL')"
   ]
  },
  {
   "cell_type": "code",
   "execution_count": 15,
   "id": "ba4cc2dd",
   "metadata": {},
   "outputs": [
    {
     "name": "stdout",
     "output_type": "stream",
     "text": [
      "0\n"
     ]
    }
   ],
   "source": [
    "null_count = 0\n",
    "for record in People:\n",
    "    if not record[\"STATE\"]:  \n",
    "        null_count += 1\n",
    "print(null_count)"
   ]
  },
  {
   "cell_type": "markdown",
   "id": "4784e0da",
   "metadata": {},
   "source": [
    "# Sex"
   ]
  },
  {
   "cell_type": "markdown",
   "id": "840239f4",
   "metadata": {},
   "source": [
    "#### SOSTITUISCO con la Moda"
   ]
  },
  {
   "cell_type": "code",
   "execution_count": 16,
   "id": "17c7da72",
   "metadata": {},
   "outputs": [
    {
     "name": "stdout",
     "output_type": "stream",
     "text": [
      "7154\n"
     ]
    }
   ],
   "source": [
    "null_count = 0\n",
    "for record in People:\n",
    "    if not record[\"SEX\"]:  \n",
    "        null_count += 1\n",
    "print(null_count)"
   ]
  },
  {
   "cell_type": "code",
   "execution_count": 17,
   "id": "86519d42",
   "metadata": {},
   "outputs": [
    {
     "data": {
      "text/plain": [
       "'M'"
      ]
     },
     "execution_count": 17,
     "metadata": {},
     "output_type": "execute_result"
    }
   ],
   "source": [
    "sex_values = [record['SEX'] for record in People if record['SEX'] and record['SEX'].strip().lower() not in [\"null\", \"none\"]]\n",
    "mode_sex = Counter(sex_values).most_common(1)[0][0]  # Trova il valore più comune\n",
    "mode_sex"
   ]
  },
  {
   "cell_type": "code",
   "execution_count": 18,
   "id": "7cb5143a",
   "metadata": {},
   "outputs": [],
   "source": [
    "replace_nulls(People, 'SEX', 'M')"
   ]
  },
  {
   "cell_type": "code",
   "execution_count": 19,
   "id": "8d15d408",
   "metadata": {},
   "outputs": [
    {
     "name": "stdout",
     "output_type": "stream",
     "text": [
      "0\n"
     ]
    }
   ],
   "source": [
    "null_count = 0\n",
    "for record in People:\n",
    "    if not record[\"SEX\"]:  \n",
    "        null_count += 1\n",
    "print(null_count)"
   ]
  },
  {
   "cell_type": "markdown",
   "id": "fad78fe9",
   "metadata": {},
   "source": [
    "# Age"
   ]
  },
  {
   "cell_type": "markdown",
   "id": "d78f03dc",
   "metadata": {},
   "source": [
    "#### SOSTITUISCO con Mediana perchè la distribuzione non è normale"
   ]
  },
  {
   "cell_type": "code",
   "execution_count": 20,
   "id": "8f0eb76a",
   "metadata": {},
   "outputs": [
    {
     "data": {
      "image/png": "[encoded data removed]",
      "text/plain": [
       "<Figure size 640x480 with 1 Axes>"
      ]
     },
     "metadata": {},
     "output_type": "display_data"
    }
   ],
   "source": [
    "import matplotlib.pyplot as plt\n",
    "\n",
    "# Estrai i valori numerici dalla colonna 'AGE', assicurandoci che siano validi\n",
    "age_values = []\n",
    "for record in People:\n",
    "    try:\n",
    "        # Converte l'AGE in float, ignorando i valori non numerici\n",
    "        age = float(record['AGE'])\n",
    "        age_values.append(age)\n",
    "    except ValueError:\n",
    "        # Se l'AGE non può essere convertito in float, lo salta\n",
    "        pass\n",
    "\n",
    "# Controlla se ci sono valori validi\n",
    "if not age_values:\n",
    "    print(\"Nessun dato valido trovato nella colonna 'AGE'.\")\n",
    "else:\n",
    "    # Crea l'istogramma\n",
    "    plt.hist(age_values, bins=10, color='skyblue', edgecolor='black')  # Puoi modificare il numero di bins se necessario\n",
    "\n",
    "    # Aggiungi titoli e etichette\n",
    "    plt.title('Distribuzione dell\\'Età')\n",
    "    plt.xlabel('Età')\n",
    "    plt.ylabel('Frequenza')\n",
    "\n",
    "    # Mostra il grafico\n",
    "    plt.show()"
   ]
  },
  {
   "cell_type": "code",
   "execution_count": 21,
   "id": "da2585df",
   "metadata": {},
   "outputs": [
    {
     "name": "stdout",
     "output_type": "stream",
     "text": [
      "160981\n"
     ]
    }
   ],
   "source": [
    "null_count = 0\n",
    "for record in People:\n",
    "    if not record[\"AGE\"]:  \n",
    "        null_count += 1\n",
    "print(null_count)"
   ]
  },
  {
   "cell_type": "code",
   "execution_count": 22,
   "id": "744eeda5",
   "metadata": {},
   "outputs": [
    {
     "name": "stdout",
     "output_type": "stream",
     "text": [
      "La mediana dell'età è: 36.0\n"
     ]
    }
   ],
   "source": [
    "import statistics\n",
    "\n",
    "# Estrai i valori numerici dalla colonna 'AGE'\n",
    "age_values = []\n",
    "for record in People:\n",
    "    try:\n",
    "        # Converte l'AGE in float, ignorando i valori non numerici\n",
    "        age = float(record['AGE'])\n",
    "        age_values.append(age)\n",
    "    except ValueError:\n",
    "        # Se l'AGE non può essere convertito in float, lo salta\n",
    "        pass\n",
    "\n",
    "# Verifica che ci siano valori validi\n",
    "if not age_values:\n",
    "    print(\"Nessun dato valido trovato nella colonna 'AGE'.\")\n",
    "else:\n",
    "    # Calcola la mediana\n",
    "    median_age = statistics.median(age_values)\n",
    "    print(f\"La mediana dell'età è: {median_age}\")"
   ]
  },
  {
   "cell_type": "code",
   "execution_count": 23,
   "id": "57016722",
   "metadata": {},
   "outputs": [],
   "source": [
    "replace_nulls(People, 'AGE', '36.0')"
   ]
  },
  {
   "cell_type": "code",
   "execution_count": 24,
   "id": "f35b67cf",
   "metadata": {},
   "outputs": [
    {
     "name": "stdout",
     "output_type": "stream",
     "text": [
      "0\n"
     ]
    }
   ],
   "source": [
    "null_count = 0\n",
    "for record in People:\n",
    "    if not record[\"AGE\"]:  \n",
    "        null_count += 1\n",
    "print(null_count)"
   ]
  },
  {
   "cell_type": "markdown",
   "id": "011c4df0",
   "metadata": {},
   "source": [
    "# Safety_Equipment"
   ]
  },
  {
   "cell_type": "markdown",
   "id": "bce28f12",
   "metadata": {},
   "source": [
    "#### SOSTITUISCO con USAGE UNKNOWN, (si potrebbero anche eliminare le righe), i pedoni/CICLISTI.... potrebbero avere come dispositivi di sicurezza delle giacche catarinfrangenti o simili"
   ]
  },
  {
   "cell_type": "code",
   "execution_count": 25,
   "id": "f3f9316b",
   "metadata": {},
   "outputs": [
    {
     "name": "stdout",
     "output_type": "stream",
     "text": [
      "1410\n"
     ]
    }
   ],
   "source": [
    "null_count = 0\n",
    "for record in People:\n",
    "    if not record[\"SAFETY_EQUIPMENT\"]:  \n",
    "        null_count += 1\n",
    "print(null_count)"
   ]
  },
  {
   "cell_type": "code",
   "execution_count": 26,
   "id": "bb5252a3",
   "metadata": {},
   "outputs": [],
   "source": [
    "replace_nulls(People, 'SAFETY_EQUIPMENT', 'USAGE UNKNOWN')"
   ]
  },
  {
   "cell_type": "code",
   "execution_count": 27,
   "id": "d40ea891",
   "metadata": {},
   "outputs": [
    {
     "name": "stdout",
     "output_type": "stream",
     "text": [
      "0\n"
     ]
    }
   ],
   "source": [
    "null_count = 0\n",
    "for record in People:\n",
    "    if not record[\"SAFETY_EQUIPMENT\"]:  \n",
    "        null_count += 1\n",
    "print(null_count)"
   ]
  },
  {
   "cell_type": "markdown",
   "id": "e178232a",
   "metadata": {},
   "source": [
    "# Airbag_deployed"
   ]
  },
  {
   "cell_type": "code",
   "execution_count": 28,
   "id": "72eb48be",
   "metadata": {},
   "outputs": [
    {
     "name": "stdout",
     "output_type": "stream",
     "text": [
      "10452\n"
     ]
    }
   ],
   "source": [
    "null_count = 0\n",
    "for record in People:\n",
    "    if not record[\"AIRBAG_DEPLOYED\"]:  \n",
    "        null_count += 1\n",
    "print(null_count)"
   ]
  },
  {
   "cell_type": "code",
   "execution_count": 29,
   "id": "aceb2a38",
   "metadata": {},
   "outputs": [],
   "source": [
    "for record in People:\n",
    "    if not record[\"AIRBAG_DEPLOYED\"] and record[\"PERSON_TYPE\"] in [\"BICYCLE\", \"PEDESTRIAN\", \"NON-MOTOR VEHICLE\"]:\n",
    "        record[\"AIRBAG_DEPLOYED\"] = \"NO AIRBAG\""
   ]
  },
  {
   "cell_type": "markdown",
   "id": "87ff411a",
   "metadata": {},
   "source": [
    "#### SOPRA ho rimosso tutte le persone che non possono avere AIRBAG, SOTTO elimino le righe rimanenti"
   ]
  },
  {
   "cell_type": "code",
   "execution_count": 30,
   "id": "36fcf201",
   "metadata": {
    "scrolled": true
   },
   "outputs": [
    {
     "name": "stdout",
     "output_type": "stream",
     "text": [
      "42\n"
     ]
    }
   ],
   "source": [
    "null_count = 0\n",
    "for record in People:\n",
    "    if not record[\"AIRBAG_DEPLOYED\"]:  \n",
    "        null_count += 1\n",
    "print(null_count)"
   ]
  },
  {
   "cell_type": "code",
   "execution_count": 31,
   "id": "a58e4c5e",
   "metadata": {},
   "outputs": [],
   "source": [
    "def remove_null_records(data):\n",
    "    \"\"\"\n",
    "    Rimuove tutti i record dalla lista 'data' che hanno un valore nullo per la chiave 'AIRBAG_DEPLOYED'.\n",
    "    \n",
    "    Parametri:\n",
    "    data (list): Lista di dizionari che rappresentano i record.\n",
    "    \n",
    "    Ritorna:\n",
    "    list: La lista di record filtrata senza i valori nulli per 'AIRBAG_DEPLOYED'.\n",
    "    \"\"\"\n",
    "    return [record for record in data if record[\"AIRBAG_DEPLOYED\"]]"
   ]
  },
  {
   "cell_type": "code",
   "execution_count": 32,
   "id": "d2c71690",
   "metadata": {},
   "outputs": [],
   "source": [
    "People = remove_null_records(People)"
   ]
  },
  {
   "cell_type": "code",
   "execution_count": 33,
   "id": "1efa41f6",
   "metadata": {},
   "outputs": [
    {
     "name": "stdout",
     "output_type": "stream",
     "text": [
      "0\n"
     ]
    }
   ],
   "source": [
    "null_count = 0\n",
    "for record in People:\n",
    "    if not record[\"AIRBAG_DEPLOYED\"]:  \n",
    "        null_count += 1\n",
    "print(null_count)"
   ]
  },
  {
   "cell_type": "markdown",
   "id": "0d11295f",
   "metadata": {},
   "source": [
    "# Ejection"
   ]
  },
  {
   "cell_type": "markdown",
   "id": "8e627d52",
   "metadata": {},
   "source": [
    "#### Sostituisco con NO VEHICLE in quanto non erano sui veicoli"
   ]
  },
  {
   "cell_type": "code",
   "execution_count": 34,
   "id": "a34bd1bf",
   "metadata": {},
   "outputs": [
    {
     "name": "stdout",
     "output_type": "stream",
     "text": [
      "6670\n"
     ]
    }
   ],
   "source": [
    "null_count = 0\n",
    "for record in People:\n",
    "    if not record[\"EJECTION\"]:  \n",
    "        null_count += 1\n",
    "print(null_count)"
   ]
  },
  {
   "cell_type": "code",
   "execution_count": 35,
   "id": "d4ab9f27",
   "metadata": {},
   "outputs": [],
   "source": [
    "def replace_nulls2(People, ejection_column, default_value):\n",
    "    for record in People:\n",
    "        if not record[ejection_column]:  # Se il valore è mancante\n",
    "            if record[\"PERSON_TYPE\"] == \"PASSENGER\":\n",
    "                record[ejection_column] = \"UNKNOWN\"\n",
    "            else:\n",
    "                record[ejection_column] = default_value"
   ]
  },
  {
   "cell_type": "code",
   "execution_count": 36,
   "id": "8c9fafe6",
   "metadata": {},
   "outputs": [],
   "source": [
    "replace_nulls2(People, 'EJECTION', 'NO VEHICLE')"
   ]
  },
  {
   "cell_type": "code",
   "execution_count": 37,
   "id": "e24eda4f",
   "metadata": {},
   "outputs": [
    {
     "name": "stdout",
     "output_type": "stream",
     "text": [
      "0\n"
     ]
    }
   ],
   "source": [
    "null_count = 0\n",
    "for record in People:\n",
    "    if not record[\"EJECTION\"]:  \n",
    "        null_count += 1\n",
    "print(null_count)"
   ]
  },
  {
   "cell_type": "markdown",
   "id": "9812ff9f",
   "metadata": {},
   "source": [
    "# Injury_classification"
   ]
  },
  {
   "cell_type": "markdown",
   "id": "07dc9631",
   "metadata": {},
   "source": [
    "#### SOSTITUISCO con NO INDICATION OF INJURY"
   ]
  },
  {
   "cell_type": "code",
   "execution_count": 38,
   "id": "95f8d846",
   "metadata": {},
   "outputs": [
    {
     "name": "stdout",
     "output_type": "stream",
     "text": [
      "261\n"
     ]
    }
   ],
   "source": [
    "null_count = 0\n",
    "for record in People:\n",
    "    if not record[\"INJURY_CLASSIFICATION\"]:  \n",
    "        null_count += 1\n",
    "print(null_count)"
   ]
  },
  {
   "cell_type": "code",
   "execution_count": 39,
   "id": "0b9a2868",
   "metadata": {},
   "outputs": [],
   "source": [
    "replace_nulls(People, 'INJURY_CLASSIFICATION', 'NO INDICATION OF INJURY')"
   ]
  },
  {
   "cell_type": "code",
   "execution_count": 40,
   "id": "df3015b2",
   "metadata": {},
   "outputs": [
    {
     "name": "stdout",
     "output_type": "stream",
     "text": [
      "0\n"
     ]
    }
   ],
   "source": [
    "null_count = 0\n",
    "for record in People:\n",
    "    if not record[\"INJURY_CLASSIFICATION\"]:  \n",
    "        null_count += 1\n",
    "print(null_count)"
   ]
  },
  {
   "cell_type": "markdown",
   "id": "c0a496e7",
   "metadata": {},
   "source": [
    "# Driver_action"
   ]
  },
  {
   "cell_type": "markdown",
   "id": "aa5d5e0f",
   "metadata": {},
   "source": [
    "#### SOSTITUISCO con NONE i NON GUIDATORI e con UNKNOWN i guidatori di NON CONTACT VEHICLE"
   ]
  },
  {
   "cell_type": "code",
   "execution_count": 41,
   "id": "de16bf61",
   "metadata": {},
   "outputs": [
    {
     "name": "stdout",
     "output_type": "stream",
     "text": [
      "109735\n"
     ]
    }
   ],
   "source": [
    "null_count = 0\n",
    "for record in People:\n",
    "    if not record[\"DRIVER_ACTION\"]:  \n",
    "        null_count += 1\n",
    "print(null_count)"
   ]
  },
  {
   "cell_type": "code",
   "execution_count": 42,
   "id": "179f79ef",
   "metadata": {},
   "outputs": [],
   "source": [
    "# Itera attraverso ogni record nel dataset\n",
    "for record in People:\n",
    "    # Se il valore di DRIVER_ACTION è mancante\n",
    "    if not record[\"DRIVER_ACTION\"] or record[\"DRIVER_ACTION\"].strip().lower() in [\"\", \"null\", \"none\"]:\n",
    "        # Sostituisci con \"UNKNOWN\" se PERSON_TYPE è \"NON-CONTACT VEHICLE\"\n",
    "        if record[\"PERSON_TYPE\"].strip().upper() == \"NON-CONTACT VEHICLE\":\n",
    "            record[\"DRIVER_ACTION\"] = \"UNKNOWN\"\n",
    "        else:\n",
    "            # Altrimenti, sostituisci con \"NONE\"\n",
    "            record[\"DRIVER_ACTION\"] = \"NONE\"\n"
   ]
  },
  {
   "cell_type": "code",
   "execution_count": 43,
   "id": "a7388c4e",
   "metadata": {},
   "outputs": [
    {
     "name": "stdout",
     "output_type": "stream",
     "text": [
      "0\n"
     ]
    }
   ],
   "source": [
    "null_count = 0\n",
    "for record in People:\n",
    "    if not record[\"DRIVER_ACTION\"]:  \n",
    "        null_count += 1\n",
    "print(null_count)"
   ]
  },
  {
   "cell_type": "markdown",
   "id": "2e56c950",
   "metadata": {},
   "source": [
    "# Driver_vision"
   ]
  },
  {
   "cell_type": "markdown",
   "id": "963005c4",
   "metadata": {},
   "source": [
    "#### SOSTITUISCO con NOT APPLICABLE perchè nessuno guida un veicolo tranne quelli NON_CONTACT VEHICLE in cui metto UNKNOWN"
   ]
  },
  {
   "cell_type": "code",
   "execution_count": 44,
   "id": "8eb131f9",
   "metadata": {},
   "outputs": [
    {
     "name": "stdout",
     "output_type": "stream",
     "text": [
      "109852\n"
     ]
    }
   ],
   "source": [
    "null_count = 0\n",
    "for record in People:\n",
    "    if not record[\"DRIVER_VISION\"]:  \n",
    "        null_count += 1\n",
    "print(null_count)"
   ]
  },
  {
   "cell_type": "code",
   "execution_count": 45,
   "id": "e9ea32da",
   "metadata": {},
   "outputs": [
    {
     "name": "stdout",
     "output_type": "stream",
     "text": [
      "{'PASSENGER': 108814, 'PEDESTRIAN': 677, 'NON-MOTOR VEHICLE': 263, 'BICYCLE': 95, 'NON-CONTACT VEHICLE': 3}\n"
     ]
    }
   ],
   "source": [
    "person_types_with_nulls = {}\n",
    "\n",
    "for record in People:\n",
    "    if not record[\"DRIVER_VISION\"]:\n",
    "        person_type = record[\"PERSON_TYPE\"]\n",
    "        if person_type not in person_types_with_nulls:\n",
    "            person_types_with_nulls[person_type] = 0\n",
    "        person_types_with_nulls[person_type] += 1\n",
    "\n",
    "print(person_types_with_nulls)"
   ]
  },
  {
   "cell_type": "code",
   "execution_count": 46,
   "id": "9d4d55aa",
   "metadata": {},
   "outputs": [],
   "source": [
    "for record in People:\n",
    "    if not record[\"DRIVER_VISION\"]:  # Se il valore è mancante\n",
    "        if record[\"PERSON_TYPE\"] == \"NON-CONTACT VEHICLE\":\n",
    "            record[\"DRIVER_VISION\"] = \"UNKNOWN\"\n",
    "        else:\n",
    "            record[\"DRIVER_VISION\"] = \"NOT APPLICABLE\""
   ]
  },
  {
   "cell_type": "code",
   "execution_count": 47,
   "id": "b80090ad",
   "metadata": {},
   "outputs": [
    {
     "name": "stdout",
     "output_type": "stream",
     "text": [
      "0\n"
     ]
    }
   ],
   "source": [
    "null_count = 0\n",
    "for record in People:\n",
    "    if not record[\"DRIVER_VISION\"]:  \n",
    "        null_count += 1\n",
    "print(null_count)"
   ]
  },
  {
   "cell_type": "markdown",
   "id": "1a68578c",
   "metadata": {},
   "source": [
    "# Physical_condition"
   ]
  },
  {
   "cell_type": "markdown",
   "id": "5ae6286b",
   "metadata": {},
   "source": [
    "#### SOSTITUOSCO con UNKNOWN i guidatori di non contact vehicle, Not applicable il resto\n"
   ]
  },
  {
   "cell_type": "code",
   "execution_count": 48,
   "id": "795d9716",
   "metadata": {},
   "outputs": [
    {
     "name": "stdout",
     "output_type": "stream",
     "text": [
      "109469\n"
     ]
    }
   ],
   "source": [
    "null_count = 0\n",
    "for record in People:\n",
    "    if not record[\"PHYSICAL_CONDITION\"]:  \n",
    "        null_count += 1\n",
    "print(null_count)"
   ]
  },
  {
   "cell_type": "code",
   "execution_count": 49,
   "id": "e0f0f827",
   "metadata": {},
   "outputs": [
    {
     "name": "stdout",
     "output_type": "stream",
     "text": [
      "{'PASSENGER': 108814, 'PEDESTRIAN': 311, 'NON-MOTOR VEHICLE': 258, 'BICYCLE': 83, 'NON-CONTACT VEHICLE': 3}\n"
     ]
    }
   ],
   "source": [
    "person_types_with_nulls = {}\n",
    "\n",
    "for record in People:\n",
    "    if not record[\"PHYSICAL_CONDITION\"]:\n",
    "        person_type = record[\"PERSON_TYPE\"]\n",
    "        if person_type not in person_types_with_nulls:\n",
    "            person_types_with_nulls[person_type] = 0\n",
    "        person_types_with_nulls[person_type] += 1\n",
    "\n",
    "print(person_types_with_nulls)"
   ]
  },
  {
   "cell_type": "code",
   "execution_count": 50,
   "id": "42c668d2",
   "metadata": {},
   "outputs": [],
   "source": [
    "for record in People:\n",
    "    if not record[\"PHYSICAL_CONDITION\"]:  # Se il valore è mancante\n",
    "        if record[\"PERSON_TYPE\"] == \"NON-CONTACT VEHICLE\":\n",
    "            record[\"PHYSICAL_CONDITION\"] = \"UNKNOWN\"\n",
    "        else:\n",
    "            record[\"PHYSICAL_CONDITION\"] = \"NOT APPLICABLE\""
   ]
  },
  {
   "cell_type": "code",
   "execution_count": 51,
   "id": "632450e2",
   "metadata": {},
   "outputs": [
    {
     "name": "stdout",
     "output_type": "stream",
     "text": [
      "0\n"
     ]
    }
   ],
   "source": [
    "null_count = 0\n",
    "for record in People:\n",
    "    if not record[\"PHYSICAL_CONDITION\"]:  \n",
    "        null_count += 1\n",
    "print(null_count)"
   ]
  },
  {
   "cell_type": "markdown",
   "id": "3fd56e02",
   "metadata": {},
   "source": [
    "# BAC_result"
   ]
  },
  {
   "cell_type": "markdown",
   "id": "b24e5a2e",
   "metadata": {},
   "source": [
    "#### SOSTITUISCO con NOt applicable in quanto nessuno è conducente"
   ]
  },
  {
   "cell_type": "code",
   "execution_count": 52,
   "id": "8fb80f75",
   "metadata": {},
   "outputs": [
    {
     "name": "stdout",
     "output_type": "stream",
     "text": [
      "108814\n"
     ]
    }
   ],
   "source": [
    "null_count = 0\n",
    "for record in People:\n",
    "    if not record[\"BAC_RESULT\"]:  \n",
    "        null_count += 1\n",
    "print(null_count)"
   ]
  },
  {
   "cell_type": "code",
   "execution_count": 53,
   "id": "d7759e99",
   "metadata": {},
   "outputs": [
    {
     "name": "stdout",
     "output_type": "stream",
     "text": [
      "{'PASSENGER': 108814}\n"
     ]
    }
   ],
   "source": [
    "person_types_with_nulls = {}\n",
    "\n",
    "for record in People:\n",
    "    if not record[\"BAC_RESULT\"]:\n",
    "        person_type = record[\"PERSON_TYPE\"]\n",
    "        if person_type not in person_types_with_nulls:\n",
    "            person_types_with_nulls[person_type] = 0\n",
    "        person_types_with_nulls[person_type] += 1\n",
    "\n",
    "print(person_types_with_nulls)"
   ]
  },
  {
   "cell_type": "code",
   "execution_count": 54,
   "id": "8068a554",
   "metadata": {},
   "outputs": [],
   "source": [
    "replace_nulls(People, 'BAC_RESULT', 'NOT APPLICABLE')"
   ]
  },
  {
   "cell_type": "code",
   "execution_count": 55,
   "id": "69b859e3",
   "metadata": {},
   "outputs": [
    {
     "name": "stdout",
     "output_type": "stream",
     "text": [
      "0\n"
     ]
    }
   ],
   "source": [
    "null_count = 0\n",
    "for record in People:\n",
    "    if not record[\"BAC_RESULT\"]:  \n",
    "        null_count += 1\n",
    "print(null_count)"
   ]
  },
  {
   "cell_type": "markdown",
   "id": "4018a22e",
   "metadata": {},
   "source": [
    "# Damage"
   ]
  },
  {
   "cell_type": "markdown",
   "id": "a5552edf",
   "metadata": {},
   "source": [
    "#### SOSTITUISCO con MEDIA"
   ]
  },
  {
   "cell_type": "code",
   "execution_count": 56,
   "id": "4a6a018d",
   "metadata": {},
   "outputs": [
    {
     "name": "stdout",
     "output_type": "stream",
     "text": [
      "74303\n"
     ]
    }
   ],
   "source": [
    "null_count = 0\n",
    "for record in People:\n",
    "    if not record[\"DAMAGE\"]:  \n",
    "        null_count += 1\n",
    "print(null_count)"
   ]
  },
  {
   "cell_type": "code",
   "execution_count": 57,
   "id": "5ccb03b4",
   "metadata": {},
   "outputs": [
    {
     "name": "stdout",
     "output_type": "stream",
     "text": [
      "{'DRIVER': 55117, 'PASSENGER': 13300, 'BICYCLE': 2113, 'PEDESTRIAN': 3680, 'NON-MOTOR VEHICLE': 87, 'NON-CONTACT VEHICLE': 6}\n"
     ]
    }
   ],
   "source": [
    "person_types_with_nulls = {}\n",
    "\n",
    "for record in People:\n",
    "    if not record[\"DAMAGE\"]:\n",
    "        person_type = record[\"PERSON_TYPE\"]\n",
    "        if person_type not in person_types_with_nulls:\n",
    "            person_types_with_nulls[person_type] = 0\n",
    "        person_types_with_nulls[person_type] += 1\n",
    "\n",
    "print(person_types_with_nulls)"
   ]
  },
  {
   "cell_type": "code",
   "execution_count": 58,
   "id": "afd2a9bc",
   "metadata": {},
   "outputs": [],
   "source": [
    "for record in People:\n",
    "    if not record[\"DAMAGE\"]:  # Controlla se il valore è mancante\n",
    "        if record[\"PERSON_TYPE\"] in [\"BICYCLE\", \"PEDESTRIAN\", \"NON-MOTOR VEHICLE\", \"NON-CONTACT VEHICLE\"]:\n",
    "            record[\"DAMAGE\"] = \"NOT APPLICABLE\"  # Sostituisci con \"NOT APPLICABLE\""
   ]
  },
  {
   "cell_type": "code",
   "execution_count": 59,
   "id": "728b9e85",
   "metadata": {},
   "outputs": [
    {
     "name": "stdout",
     "output_type": "stream",
     "text": [
      "68417\n"
     ]
    }
   ],
   "source": [
    "null_count = 0\n",
    "for record in People:\n",
    "    if not record[\"DAMAGE\"]:  \n",
    "        null_count += 1\n",
    "print(null_count)"
   ]
  },
  {
   "cell_type": "code",
   "execution_count": 60,
   "id": "7c785c07",
   "metadata": {},
   "outputs": [
    {
     "name": "stdout",
     "output_type": "stream",
     "text": [
      "{'$500 OR LESS': 68417}\n"
     ]
    }
   ],
   "source": [
    "person_types_with_nulls = {}\n",
    "\n",
    "for record in People:\n",
    "    if not record[\"DAMAGE\"]:\n",
    "        person_type = record[\"DAMAGE_CATEGORY\"]\n",
    "        if person_type not in person_types_with_nulls:\n",
    "            person_types_with_nulls[person_type] = 0\n",
    "        person_types_with_nulls[person_type] += 1\n",
    "\n",
    "print(person_types_with_nulls)"
   ]
  },
  {
   "cell_type": "code",
   "execution_count": 61,
   "id": "ea585fa0",
   "metadata": {},
   "outputs": [],
   "source": [
    "replace_nulls(People, 'DAMAGE', '250.00')"
   ]
  },
  {
   "cell_type": "code",
   "execution_count": 62,
   "id": "955e5ce8",
   "metadata": {},
   "outputs": [
    {
     "name": "stdout",
     "output_type": "stream",
     "text": [
      "0\n"
     ]
    }
   ],
   "source": [
    "null_count = 0\n",
    "for record in People:\n",
    "    if not record[\"DAMAGE\"]:  \n",
    "        null_count += 1\n",
    "print(null_count)"
   ]
  },
  {
   "cell_type": "markdown",
   "id": "7606757e",
   "metadata": {},
   "source": [
    "#### APPROSSIMO a due cifre decimali i costi"
   ]
  },
  {
   "cell_type": "code",
   "execution_count": 63,
   "id": "85d223e7",
   "metadata": {},
   "outputs": [],
   "source": [
    "for record in People:\n",
    "    if record[\"DAMAGE\"] is not None:  # Controlla se il valore non è mancante\n",
    "        try:\n",
    "            # Prova a convertire il valore in float, quindi approssima a due cifre decimali\n",
    "            record[\"DAMAGE\"] = round(float(record[\"DAMAGE\"]), 2)\n",
    "        except ValueError:\n",
    "            # Gestisce i casi in cui il valore non è convertibile in float (rimane inalterato)\n",
    "            pass"
   ]
  },
  {
   "cell_type": "markdown",
   "id": "0669f52d",
   "metadata": {},
   "source": [
    "# FINE"
   ]
  },
  {
   "cell_type": "code",
   "execution_count": 64,
   "id": "717e58bb",
   "metadata": {},
   "outputs": [
    {
     "name": "stdout",
     "output_type": "stream",
     "text": [
      "File salvato con successo in: C:/Users/al797/Desktop/People_cleaned.csv\n"
     ]
    }
   ],
   "source": [
    "\n",
    "# Definisci il percorso in cui vuoi salvare il file\n",
    "file_path = \"C:/Users/al797/Desktop/People_cleaned.csv\"  # Sostituisci con il percorso del desktop\n",
    "\n",
    "# Salva il dataset in un file CSV\n",
    "with open(file_path, mode='w', newline='') as file:\n",
    "    writer = csv.DictWriter(file, fieldnames=People[0].keys())\n",
    "    writer.writeheader()\n",
    "    writer.writerows(People)\n",
    "\n",
    "print(f\"File salvato con successo in: {file_path}\")"
   ]
  }
 ],
 "metadata": {
  "kernelspec": {
   "display_name": "Python 3 (ipykernel)",
   "language": "python",
   "name": "python3"
  },
  "language_info": {
   "codemirror_mode": {
    "name": "ipython",
    "version": 3
   },
   "file_extension": ".py",
   "mimetype": "text/x-python",
   "name": "python",
   "nbconvert_exporter": "python",
   "pygments_lexer": "ipython3",
   "version": "3.11.5"
  }
 },
 "nbformat": 4,
 "nbformat_minor": 5
}
