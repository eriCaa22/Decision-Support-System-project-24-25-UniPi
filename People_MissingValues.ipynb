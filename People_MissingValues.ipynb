{
 "cells": [
  {
   "cell_type": "code",
   "execution_count": 1,
   "id": "b37a7129",
   "metadata": {},
   "outputs": [],
   "source": [
    "import csv\n",
    "\n",
    "with open('C:/Users/al797/Desktop/People.csv', mode='r') as file:\n",
    "    reader = csv.DictReader(file)\n",
    "    people = [row for row in reader]"
   ]
  },
  {
   "cell_type": "code",
   "execution_count": 2,
   "id": "56f875e6",
   "metadata": {},
   "outputs": [
    {
     "name": "stdout",
     "output_type": "stream",
     "text": [
      "Colonna 'PERSON_ID': 0 valori mancanti\n",
      "Colonna 'PERSON_TYPE': 0 valori mancanti\n",
      "Colonna 'RD_NO': 0 valori mancanti\n",
      "Colonna 'VEHICLE_ID': 10696 valori mancanti\n",
      "Colonna 'CRASH_DATE': 0 valori mancanti\n",
      "Colonna 'CITY': 143920 valori mancanti\n",
      "Colonna 'STATE': 141976 valori mancanti\n",
      "Colonna 'SEX': 7154 valori mancanti\n",
      "Colonna 'AGE': 160981 valori mancanti\n",
      "Colonna 'SAFETY_EQUIPMENT': 1410 valori mancanti\n",
      "Colonna 'AIRBAG_DEPLOYED': 10452 valori mancanti\n",
      "Colonna 'EJECTION': 6705 valori mancanti\n",
      "Colonna 'INJURY_CLASSIFICATION': 296 valori mancanti\n",
      "Colonna 'DRIVER_ACTION': 109766 valori mancanti\n",
      "Colonna 'DRIVER_VISION': 109884 valori mancanti\n",
      "Colonna 'PHYSICAL_CONDITION': 109501 valori mancanti\n",
      "Colonna 'BAC_RESULT': 108833 valori mancanti\n",
      "Colonna 'DAMAGE_CATEGORY': 0 valori mancanti\n",
      "Colonna 'DAMAGE': 74309 valori mancanti\n"
     ]
    }
   ],
   "source": [
    "missing_counts = {column: 0 for column in people[0].keys()}\n",
    "\n",
    "for row in people:\n",
    "    for column, value in row.items():\n",
    "        if value == '' or value is None: \n",
    "            missing_counts[column] += 1\n",
    "\n",
    "for column, count in missing_counts.items():\n",
    "    print(f\"Colonna '{column}': {count} valori mancanti\")"
   ]
  },
  {
   "cell_type": "code",
   "execution_count": 3,
   "id": "b16b7283",
   "metadata": {},
   "outputs": [],
   "source": [
    "def replace_nulls(ds, column_name, replacement_value):\n",
    "    \n",
    "    for record in ds:\n",
    "        value = record[column_name].strip().lower() if record[column_name] else None\n",
    "        \n",
    "        if value in [None, \"\", \"null\", \"none\"]:\n",
    "            record[column_name] = replacement_value"
   ]
  },
  {
   "cell_type": "code",
   "execution_count": 4,
   "id": "a6397517",
   "metadata": {},
   "outputs": [],
   "source": [
    "def replace_nulls_with_conditions(ds, column_name_to_check, target_value, column_to_replace, replacement_value):\n",
    "    for record in ds:\n",
    "        \n",
    "        if record.get(column_name_to_check) == target_value and (not record.get(column_to_replace) or record[column_to_replace] in [\"\", \"null\", \"none\", \"NaN\"]):\n",
    "            record[column_to_replace] = replacement_value\n"
   ]
  },
  {
   "cell_type": "code",
   "execution_count": 14,
   "id": "ccc5dfa3",
   "metadata": {},
   "outputs": [],
   "source": [
    "def mv_count(variable):\n",
    "    count = 0 \n",
    "    for record in people:\n",
    "        if not record[variable]:\n",
    "            count += 1\n",
    "    return count"
   ]
  },
  {
   "cell_type": "markdown",
   "id": "f7f37859",
   "metadata": {},
   "source": [
    "# Vehicles ID"
   ]
  },
  {
   "cell_type": "markdown",
   "id": "5ae5105e",
   "metadata": {},
   "source": [
    "#### SOSTITUISCO CON 0 Poichè non hanno la targa(Pedoni/bici..)"
   ]
  },
  {
   "cell_type": "code",
   "execution_count": 15,
   "id": "21208a37",
   "metadata": {},
   "outputs": [
    {
     "data": {
      "text/plain": [
       "49"
      ]
     },
     "execution_count": 15,
     "metadata": {},
     "output_type": "execute_result"
    }
   ],
   "source": [
    "mv_count('VEHICLE_ID')"
   ]
  },
  {
   "cell_type": "code",
   "execution_count": 16,
   "id": "fd5d1fd0",
   "metadata": {},
   "outputs": [],
   "source": [
    "replace_nulls(vehicles, 'UNIT_TYPE', -1.0)"
   ]
  },
  {
   "cell_type": "code",
   "execution_count": 20,
   "id": "18c40c59",
   "metadata": {},
   "outputs": [
    {
     "data": {
      "text/plain": [
       "49"
      ]
     },
     "execution_count": 20,
     "metadata": {},
     "output_type": "execute_result"
    }
   ],
   "source": [
    "mv_count('VEHICLE_ID')"
   ]
  },
  {
   "cell_type": "markdown",
   "id": "36ecc923",
   "metadata": {},
   "source": [
    "# City"
   ]
  },
  {
   "cell_type": "markdown",
   "id": "0034f7c0",
   "metadata": {},
   "source": [
    "#### SOSTITUISCO con CHICAGO (perchè è la moda)"
   ]
  },
  {
   "cell_type": "code",
   "execution_count": 21,
   "id": "db7262a3",
   "metadata": {},
   "outputs": [
    {
     "data": {
      "text/plain": [
       "143920"
      ]
     },
     "execution_count": 21,
     "metadata": {},
     "output_type": "execute_result"
    }
   ],
   "source": [
    "mv_count('CITY')"
   ]
  },
  {
   "cell_type": "code",
   "execution_count": 22,
   "id": "fbb17582",
   "metadata": {},
   "outputs": [],
   "source": [
    "replace_nulls(people, 'CITY', 'CHICAGO')"
   ]
  },
  {
   "cell_type": "code",
   "execution_count": 24,
   "id": "a9b3bb3e",
   "metadata": {},
   "outputs": [
    {
     "data": {
      "text/plain": [
       "0"
      ]
     },
     "execution_count": 24,
     "metadata": {},
     "output_type": "execute_result"
    }
   ],
   "source": [
    "mv_count('CITY')"
   ]
  },
  {
   "cell_type": "markdown",
   "id": "1b19703b",
   "metadata": {},
   "source": [
    "# State"
   ]
  },
  {
   "cell_type": "markdown",
   "id": "f650a562",
   "metadata": {},
   "source": [
    "#### SOSTITUISCO con MODA"
   ]
  },
  {
   "cell_type": "code",
   "execution_count": 25,
   "id": "ae3dacc4",
   "metadata": {},
   "outputs": [
    {
     "data": {
      "text/plain": [
       "141976"
      ]
     },
     "execution_count": 25,
     "metadata": {},
     "output_type": "execute_result"
    }
   ],
   "source": [
    "mv_count('STATE')"
   ]
  },
  {
   "cell_type": "code",
   "execution_count": 26,
   "id": "29a7fbc8",
   "metadata": {},
   "outputs": [],
   "source": [
    "replace_nulls(people, 'STATE', 'IL')"
   ]
  },
  {
   "cell_type": "code",
   "execution_count": 27,
   "id": "ba4cc2dd",
   "metadata": {},
   "outputs": [
    {
     "data": {
      "text/plain": [
       "0"
      ]
     },
     "execution_count": 27,
     "metadata": {},
     "output_type": "execute_result"
    }
   ],
   "source": [
    "mv_count('STATE')"
   ]
  },
  {
   "cell_type": "markdown",
   "id": "4784e0da",
   "metadata": {},
   "source": [
    "# Sex"
   ]
  },
  {
   "cell_type": "markdown",
   "id": "840239f4",
   "metadata": {},
   "source": [
    "#### SOSTITUISCO con la Moda"
   ]
  },
  {
   "cell_type": "code",
   "execution_count": 28,
   "id": "17c7da72",
   "metadata": {},
   "outputs": [
    {
     "data": {
      "text/plain": [
       "7154"
      ]
     },
     "execution_count": 28,
     "metadata": {},
     "output_type": "execute_result"
    }
   ],
   "source": [
    "mv_count('SEX')"
   ]
  },
  {
   "cell_type": "code",
   "execution_count": 29,
   "id": "7cb5143a",
   "metadata": {},
   "outputs": [],
   "source": [
    "replace_nulls(people, 'SEX', 'M')"
   ]
  },
  {
   "cell_type": "code",
   "execution_count": 30,
   "id": "8d15d408",
   "metadata": {},
   "outputs": [
    {
     "data": {
      "text/plain": [
       "0"
      ]
     },
     "execution_count": 30,
     "metadata": {},
     "output_type": "execute_result"
    }
   ],
   "source": [
    "mv_count('SEX')"
   ]
  },
  {
   "cell_type": "markdown",
   "id": "fad78fe9",
   "metadata": {},
   "source": [
    "# Age"
   ]
  },
  {
   "cell_type": "code",
   "execution_count": 31,
   "id": "7256d41c",
   "metadata": {},
   "outputs": [
    {
     "data": {
      "text/plain": [
       "160981"
      ]
     },
     "execution_count": 31,
     "metadata": {},
     "output_type": "execute_result"
    }
   ],
   "source": [
    "mv_count('AGE')"
   ]
  },
  {
   "cell_type": "markdown",
   "id": "d78f03dc",
   "metadata": {},
   "source": [
    "#### SOSTITUISCO con Mediana perchè la distribuzione non è normale"
   ]
  },
  {
   "cell_type": "code",
   "execution_count": 117,
   "id": "da2585df",
   "metadata": {},
   "outputs": [
    {
     "name": "stdout",
     "output_type": "stream",
     "text": [
      "160981\n"
     ]
    }
   ],
   "source": [
    "null_count = 0\n",
    "for record in people:\n",
    "    if not record[\"AGE\"]:  \n",
    "        null_count += 1\n",
    "print(null_count)"
   ]
  },
  {
   "cell_type": "code",
   "execution_count": 33,
   "id": "57016722",
   "metadata": {},
   "outputs": [],
   "source": [
    "replace_nulls(people, 'AGE', '36.0')"
   ]
  },
  {
   "cell_type": "code",
   "execution_count": 34,
   "id": "f35b67cf",
   "metadata": {},
   "outputs": [
    {
     "data": {
      "text/plain": [
       "0"
      ]
     },
     "execution_count": 34,
     "metadata": {},
     "output_type": "execute_result"
    }
   ],
   "source": [
    "mv_count('AGE')"
   ]
  },
  {
   "cell_type": "markdown",
   "id": "011c4df0",
   "metadata": {},
   "source": [
    "# Safety_Equipment"
   ]
  },
  {
   "cell_type": "code",
   "execution_count": 35,
   "id": "652d676b",
   "metadata": {},
   "outputs": [
    {
     "data": {
      "text/plain": [
       "1410"
      ]
     },
     "execution_count": 35,
     "metadata": {},
     "output_type": "execute_result"
    }
   ],
   "source": [
    "mv_count('SAFETY_EQUIPMENT')"
   ]
  },
  {
   "cell_type": "markdown",
   "id": "bce28f12",
   "metadata": {},
   "source": [
    "#### SOSTITUISCO con USAGE UNKNOWN, (si potrebbero anche eliminare le righe), i pedoni/CICLISTI.... potrebbero avere come dispositivi di sicurezza delle giacche catarinfrangenti o simili"
   ]
  },
  {
   "cell_type": "code",
   "execution_count": 36,
   "id": "bb5252a3",
   "metadata": {},
   "outputs": [],
   "source": [
    "replace_nulls(people, 'SAFETY_EQUIPMENT', 'USAGE UNKNOWN')"
   ]
  },
  {
   "cell_type": "code",
   "execution_count": 37,
   "id": "d40ea891",
   "metadata": {},
   "outputs": [
    {
     "data": {
      "text/plain": [
       "0"
      ]
     },
     "execution_count": 37,
     "metadata": {},
     "output_type": "execute_result"
    }
   ],
   "source": [
    "mv_count('SAFETY_EQUIPMENT')"
   ]
  },
  {
   "cell_type": "markdown",
   "id": "e178232a",
   "metadata": {},
   "source": [
    "# Airbag_deployed"
   ]
  },
  {
   "cell_type": "code",
   "execution_count": 38,
   "id": "360d3cf0",
   "metadata": {},
   "outputs": [
    {
     "data": {
      "text/plain": [
       "10452"
      ]
     },
     "execution_count": 38,
     "metadata": {},
     "output_type": "execute_result"
    }
   ],
   "source": [
    "mv_count('AIRBAG_DEPLOYED')"
   ]
  },
  {
   "cell_type": "code",
   "execution_count": 39,
   "id": "df174ea1",
   "metadata": {},
   "outputs": [],
   "source": [
    "replace_nulls_with_conditions(people, 'PERSON_TYPE', 'BICYCLE', 'AIRBAG_DEPLOYED', 'NOT APPLICABLE ')"
   ]
  },
  {
   "cell_type": "code",
   "execution_count": 40,
   "id": "aceb2a38",
   "metadata": {},
   "outputs": [],
   "source": [
    "replace_nulls_with_conditions(people, 'PERSON_TYPE', 'PEDESTRIAN', 'AIRBAG_DEPLOYED', 'NOT APPLICABLE ')"
   ]
  },
  {
   "cell_type": "code",
   "execution_count": 41,
   "id": "55a2d75d",
   "metadata": {},
   "outputs": [],
   "source": [
    "replace_nulls_with_conditions(people, 'PERSON_TYPE', 'NON-MOTOR VEHICLE', 'AIRBAG_DEPLOYED', 'NOT APPLICABLE ')"
   ]
  },
  {
   "cell_type": "code",
   "execution_count": 1,
   "id": "1bb90804",
   "metadata": {},
   "outputs": [
    {
     "ename": "NameError",
     "evalue": "name 'replace_nulls' is not defined",
     "output_type": "error",
     "traceback": [
      "\u001b[1;31m---------------------------------------------------------------------------\u001b[0m",
      "\u001b[1;31mNameError\u001b[0m                                 Traceback (most recent call last)",
      "Cell \u001b[1;32mIn[1], line 1\u001b[0m\n\u001b[1;32m----> 1\u001b[0m replace_nulls(people, \u001b[38;5;124m'\u001b[39m\u001b[38;5;124mPERSON_TYPE\u001b[39m\u001b[38;5;124m'\u001b[39m, \u001b[38;5;124m'\u001b[39m\u001b[38;5;124mDEPLOYMENT UNKNOWN\u001b[39m\u001b[38;5;124m'\u001b[39m)\n",
      "\u001b[1;31mNameError\u001b[0m: name 'replace_nulls' is not defined"
     ]
    }
   ],
   "source": [
    "replace_nulls(people, 'PERSON_TYPE', 'DEPLOYMENT UNKNOWN')"
   ]
  },
  {
   "cell_type": "code",
   "execution_count": 43,
   "id": "36fcf201",
   "metadata": {
    "scrolled": true
   },
   "outputs": [
    {
     "data": {
      "text/plain": [
       "42"
      ]
     },
     "execution_count": 43,
     "metadata": {},
     "output_type": "execute_result"
    }
   ],
   "source": [
    "mv_count('AIRBAG_DEPLOYED')"
   ]
  },
  {
   "cell_type": "markdown",
   "id": "87ff411a",
   "metadata": {},
   "source": [
    "#### SOPRA ho rimosso tutte le persone che non possono avere AIRBAG, per le righe rimanenti lasciamo NaN"
   ]
  },
  {
   "cell_type": "markdown",
   "id": "0d11295f",
   "metadata": {},
   "source": [
    "# Ejection"
   ]
  },
  {
   "cell_type": "markdown",
   "id": "8e627d52",
   "metadata": {},
   "source": [
    "#### Sostituisco con NO VEHICLE in quanto non erano sui veicoli"
   ]
  },
  {
   "cell_type": "code",
   "execution_count": 44,
   "id": "a34bd1bf",
   "metadata": {},
   "outputs": [
    {
     "data": {
      "text/plain": [
       "6705"
      ]
     },
     "execution_count": 44,
     "metadata": {},
     "output_type": "execute_result"
    }
   ],
   "source": [
    "mv_count('EJECTION')"
   ]
  },
  {
   "cell_type": "code",
   "execution_count": 45,
   "id": "d2e08290",
   "metadata": {},
   "outputs": [],
   "source": [
    "replace_nulls_with_conditions(people, 'PERSON_TYPE', 'PASSENGER', 'EJECTION', 'UNKNOWN')"
   ]
  },
  {
   "cell_type": "code",
   "execution_count": 46,
   "id": "de656723",
   "metadata": {},
   "outputs": [],
   "source": [
    "replace_nulls_with_conditions(people, 'PERSON_TYPE', 'NON-CONTACT VEHICLE', 'EJECTION', 'UNKNOWN')"
   ]
  },
  {
   "cell_type": "code",
   "execution_count": 47,
   "id": "60445c12",
   "metadata": {},
   "outputs": [],
   "source": [
    "replace_nulls_with_conditions(people, 'PERSON_TYPE', 'BICYCLE', 'EJECTION', 'UNKNOWN')"
   ]
  },
  {
   "cell_type": "code",
   "execution_count": 48,
   "id": "3747ea44",
   "metadata": {},
   "outputs": [],
   "source": [
    "replace_nulls_with_conditions(people, 'PERSON_TYPE', 'PEDESTRIAN', 'EJECTION', 'NOT APPLICABLE')"
   ]
  },
  {
   "cell_type": "code",
   "execution_count": 49,
   "id": "e1215256",
   "metadata": {},
   "outputs": [],
   "source": [
    "replace_nulls_with_conditions(people, 'PERSON_TYPE', 'NON-MOTOR VEHICLE', 'EJECTION', 'UNKNOWN')"
   ]
  },
  {
   "cell_type": "code",
   "execution_count": 50,
   "id": "e24eda4f",
   "metadata": {},
   "outputs": [
    {
     "data": {
      "text/plain": [
       "0"
      ]
     },
     "execution_count": 50,
     "metadata": {},
     "output_type": "execute_result"
    }
   ],
   "source": [
    "mv_count('EJECTION')"
   ]
  },
  {
   "cell_type": "markdown",
   "id": "9812ff9f",
   "metadata": {},
   "source": [
    "# Injury_classification"
   ]
  },
  {
   "cell_type": "markdown",
   "id": "07dc9631",
   "metadata": {},
   "source": [
    "#### SOSTITUISCO con NO INDICATION OF INJURY"
   ]
  },
  {
   "cell_type": "code",
   "execution_count": 51,
   "id": "95f8d846",
   "metadata": {},
   "outputs": [
    {
     "data": {
      "text/plain": [
       "296"
      ]
     },
     "execution_count": 51,
     "metadata": {},
     "output_type": "execute_result"
    }
   ],
   "source": [
    "mv_count('INJURY_CLASSIFICATION')"
   ]
  },
  {
   "cell_type": "code",
   "execution_count": 53,
   "id": "0b9a2868",
   "metadata": {},
   "outputs": [],
   "source": [
    "replace_nulls(people, 'INJURY_CLASSIFICATION', 'UNKNOWN')"
   ]
  },
  {
   "cell_type": "code",
   "execution_count": 54,
   "id": "df3015b2",
   "metadata": {},
   "outputs": [
    {
     "data": {
      "text/plain": [
       "0"
      ]
     },
     "execution_count": 54,
     "metadata": {},
     "output_type": "execute_result"
    }
   ],
   "source": [
    "mv_count('INJURY_CLASSIFICATION')"
   ]
  },
  {
   "cell_type": "markdown",
   "id": "c0a496e7",
   "metadata": {},
   "source": [
    "# Driver_action"
   ]
  },
  {
   "cell_type": "code",
   "execution_count": 55,
   "id": "543b9908",
   "metadata": {},
   "outputs": [
    {
     "data": {
      "text/plain": [
       "109766"
      ]
     },
     "execution_count": 55,
     "metadata": {},
     "output_type": "execute_result"
    }
   ],
   "source": [
    "mv_count('DRIVER_ACTION')"
   ]
  },
  {
   "cell_type": "markdown",
   "id": "aa5d5e0f",
   "metadata": {},
   "source": [
    "#### SOSTITUISCO con NONE i NON GUIDATORI e con UNKNOWN i guidatori di NON CONTACT VEHICLE"
   ]
  },
  {
   "cell_type": "code",
   "execution_count": 56,
   "id": "179f79ef",
   "metadata": {},
   "outputs": [],
   "source": [
    "replace_nulls_with_conditions(people,'PERSON_TYPE', 'PASSENGER', 'DRIVER_ACTION', 'NOT APPLICABLE')"
   ]
  },
  {
   "cell_type": "code",
   "execution_count": 57,
   "id": "9100ac25",
   "metadata": {},
   "outputs": [],
   "source": [
    "replace_nulls_with_conditions(people,'PERSON_TYPE', 'PEDESTRIAN', 'DRIVER_ACTION', 'UNKNOWN')"
   ]
  },
  {
   "cell_type": "code",
   "execution_count": 58,
   "id": "8dada2d7",
   "metadata": {},
   "outputs": [],
   "source": [
    "replace_nulls_with_conditions(people,'PERSON_TYPE', 'BICYCLE', 'DRIVER_ACTION', 'UNKNOWN')"
   ]
  },
  {
   "cell_type": "code",
   "execution_count": 59,
   "id": "32925b0d",
   "metadata": {},
   "outputs": [],
   "source": [
    "replace_nulls_with_conditions(people,'PERSON_TYPE', 'NON-MOTOR VEHICLE', 'DRIVER_ACTION', 'UNKNOWN')"
   ]
  },
  {
   "cell_type": "code",
   "execution_count": 60,
   "id": "2446f961",
   "metadata": {},
   "outputs": [],
   "source": [
    "replace_nulls_with_conditions(people,'PERSON_TYPE', 'NON-CONTACT VEHICLE', 'DRIVER_ACTION', 'UNKNOWN')"
   ]
  },
  {
   "cell_type": "code",
   "execution_count": 61,
   "id": "a7388c4e",
   "metadata": {},
   "outputs": [
    {
     "data": {
      "text/plain": [
       "0"
      ]
     },
     "execution_count": 61,
     "metadata": {},
     "output_type": "execute_result"
    }
   ],
   "source": [
    "mv_count('DRIVER_ACTION')"
   ]
  },
  {
   "cell_type": "markdown",
   "id": "2e56c950",
   "metadata": {},
   "source": [
    "# Driver_vision"
   ]
  },
  {
   "cell_type": "code",
   "execution_count": 62,
   "id": "18d06902",
   "metadata": {},
   "outputs": [
    {
     "data": {
      "text/plain": [
       "109884"
      ]
     },
     "execution_count": 62,
     "metadata": {},
     "output_type": "execute_result"
    }
   ],
   "source": [
    "mv_count('DRIVER_VISION')"
   ]
  },
  {
   "cell_type": "markdown",
   "id": "963005c4",
   "metadata": {},
   "source": [
    "#### SOSTITUISCO con NOT APPLICABLE perchè nessuno guida un veicolo tranne quelli NON_CONTACT VEHICLE in cui metto UNKNOWN"
   ]
  },
  {
   "cell_type": "code",
   "execution_count": 63,
   "id": "fc3eacbf",
   "metadata": {},
   "outputs": [],
   "source": [
    "replace_nulls_with_conditions(people,'PERSON_TYPE', 'PASSENGER', 'DRIVER_VISION', 'NOT APPLICABLE')"
   ]
  },
  {
   "cell_type": "code",
   "execution_count": 64,
   "id": "effff26e",
   "metadata": {},
   "outputs": [],
   "source": [
    "replace_nulls_with_conditions(people,'PERSON_TYPE', 'PEDESTRIAN', 'DRIVER_VISION', 'UNKNOWN')"
   ]
  },
  {
   "cell_type": "code",
   "execution_count": 65,
   "id": "1b3686f1",
   "metadata": {},
   "outputs": [],
   "source": [
    "replace_nulls_with_conditions(people,'PERSON_TYPE', 'BICYCLE', 'DRIVER_VISION', 'UNKNOWN')"
   ]
  },
  {
   "cell_type": "code",
   "execution_count": 66,
   "id": "4f4df8ca",
   "metadata": {},
   "outputs": [],
   "source": [
    "replace_nulls_with_conditions(people,'PERSON_TYPE', 'NON-MOTOR VEHICLE', 'DRIVER_VISION', 'UNKNOWN')"
   ]
  },
  {
   "cell_type": "code",
   "execution_count": 67,
   "id": "aaeb2a3b",
   "metadata": {},
   "outputs": [],
   "source": [
    "replace_nulls_with_conditions(people,'PERSON_TYPE', 'NON-CONTACT VEHICLE', 'DRIVER_VISION', 'UNKNOWN')"
   ]
  },
  {
   "cell_type": "code",
   "execution_count": 70,
   "id": "b80090ad",
   "metadata": {},
   "outputs": [
    {
     "data": {
      "text/plain": [
       "0"
      ]
     },
     "execution_count": 70,
     "metadata": {},
     "output_type": "execute_result"
    }
   ],
   "source": [
    "mv_count('DRIVER_VISION')"
   ]
  },
  {
   "cell_type": "markdown",
   "id": "1a68578c",
   "metadata": {},
   "source": [
    "# Physical_condition"
   ]
  },
  {
   "cell_type": "markdown",
   "id": "5ae6286b",
   "metadata": {},
   "source": [
    "#### SOSTITUOSCO con UNKNOWN i guidatori di non contact vehicle, Not applicable il resto\n"
   ]
  },
  {
   "cell_type": "code",
   "execution_count": 71,
   "id": "a7e241b7",
   "metadata": {},
   "outputs": [
    {
     "data": {
      "text/plain": [
       "109501"
      ]
     },
     "execution_count": 71,
     "metadata": {},
     "output_type": "execute_result"
    }
   ],
   "source": [
    "mv_count('PHYSICAL_CONDITION')"
   ]
  },
  {
   "cell_type": "code",
   "execution_count": 72,
   "id": "2e78f5d2",
   "metadata": {},
   "outputs": [],
   "source": [
    "replace_nulls_with_conditions(people,'PERSON_TYPE', 'PASSENGER', 'PHYSICAL_CONDITION', 'NOT APPLICABLE')"
   ]
  },
  {
   "cell_type": "code",
   "execution_count": 73,
   "id": "b710900d",
   "metadata": {},
   "outputs": [],
   "source": [
    "replace_nulls_with_conditions(people,'PERSON_TYPE', 'PEDESTRIAN', 'PHYSICAL_CONDITION', 'UNKNOWN')"
   ]
  },
  {
   "cell_type": "code",
   "execution_count": 74,
   "id": "e862c843",
   "metadata": {},
   "outputs": [],
   "source": [
    "replace_nulls_with_conditions(people,'PERSON_TYPE', 'BICYCLE', 'PHYSICAL_CONDITION', 'UNKNOWN')"
   ]
  },
  {
   "cell_type": "code",
   "execution_count": 75,
   "id": "f7e9e423",
   "metadata": {},
   "outputs": [],
   "source": [
    "replace_nulls_with_conditions(people,'PERSON_TYPE', 'NON-MOTOR VEHICLE', 'PHYSICAL_CONDITION', 'UNKNOWN')"
   ]
  },
  {
   "cell_type": "code",
   "execution_count": 76,
   "id": "da126466",
   "metadata": {},
   "outputs": [],
   "source": [
    "replace_nulls_with_conditions(people,'PERSON_TYPE', 'NON-CONTACT VEHICLE', 'PHYSICAL_CONDITION', 'UNKNOWN')"
   ]
  },
  {
   "cell_type": "code",
   "execution_count": 78,
   "id": "632450e2",
   "metadata": {},
   "outputs": [
    {
     "data": {
      "text/plain": [
       "0"
      ]
     },
     "execution_count": 78,
     "metadata": {},
     "output_type": "execute_result"
    }
   ],
   "source": [
    "mv_count('PHYSICAL_CONDITION')"
   ]
  },
  {
   "cell_type": "markdown",
   "id": "3fd56e02",
   "metadata": {},
   "source": [
    "# BAC_result"
   ]
  },
  {
   "cell_type": "markdown",
   "id": "b24e5a2e",
   "metadata": {},
   "source": [
    "#### SOSTITUISCO con NOt applicable in quanto sono tutti passeggeri"
   ]
  },
  {
   "cell_type": "code",
   "execution_count": 79,
   "id": "04066c49",
   "metadata": {},
   "outputs": [
    {
     "data": {
      "text/plain": [
       "108833"
      ]
     },
     "execution_count": 79,
     "metadata": {},
     "output_type": "execute_result"
    }
   ],
   "source": [
    "mv_count('BAC_RESULT')"
   ]
  },
  {
   "cell_type": "code",
   "execution_count": 80,
   "id": "8068a554",
   "metadata": {},
   "outputs": [],
   "source": [
    "replace_nulls(people, 'BAC_RESULT', 'NOT APPLICABLE')"
   ]
  },
  {
   "cell_type": "code",
   "execution_count": 81,
   "id": "69b859e3",
   "metadata": {},
   "outputs": [
    {
     "data": {
      "text/plain": [
       "0"
      ]
     },
     "execution_count": 81,
     "metadata": {},
     "output_type": "execute_result"
    }
   ],
   "source": [
    "mv_count('BAC_RESULT')"
   ]
  },
  {
   "cell_type": "markdown",
   "id": "4018a22e",
   "metadata": {},
   "source": [
    "# Damage"
   ]
  },
  {
   "cell_type": "markdown",
   "id": "a5552edf",
   "metadata": {},
   "source": [
    "#### SOSTITUISCO con MEDIA"
   ]
  },
  {
   "cell_type": "code",
   "execution_count": 82,
   "id": "0b5f0e05",
   "metadata": {},
   "outputs": [
    {
     "data": {
      "text/plain": [
       "74309"
      ]
     },
     "execution_count": 82,
     "metadata": {},
     "output_type": "execute_result"
    }
   ],
   "source": [
    "mv_count('DAMAGE')"
   ]
  },
  {
   "cell_type": "code",
   "execution_count": 83,
   "id": "ea585fa0",
   "metadata": {},
   "outputs": [],
   "source": [
    "replace_nulls(people, 'DAMAGE', '250.00')"
   ]
  },
  {
   "cell_type": "code",
   "execution_count": 84,
   "id": "955e5ce8",
   "metadata": {},
   "outputs": [
    {
     "data": {
      "text/plain": [
       "0"
      ]
     },
     "execution_count": 84,
     "metadata": {},
     "output_type": "execute_result"
    }
   ],
   "source": [
    "mv_count('DAMAGE')"
   ]
  },
  {
   "cell_type": "markdown",
   "id": "7606757e",
   "metadata": {},
   "source": [
    "#### APPROSSIMO a due cifre decimali i costi"
   ]
  },
  {
   "cell_type": "code",
   "execution_count": 85,
   "id": "85d223e7",
   "metadata": {},
   "outputs": [],
   "source": [
    "for record in people:\n",
    "    if record[\"DAMAGE\"] is not None:  \n",
    "        try:\n",
    "            record[\"DAMAGE\"] = round(float(record[\"DAMAGE\"]), 2)\n",
    "        except ValueError:\n",
    "            \n",
    "            pass"
   ]
  },
  {
   "cell_type": "markdown",
   "id": "0669f52d",
   "metadata": {},
   "source": [
    "# FINE"
   ]
  },
  {
   "cell_type": "code",
   "execution_count": 88,
   "id": "717e58bb",
   "metadata": {},
   "outputs": [
    {
     "name": "stdout",
     "output_type": "stream",
     "text": [
      "File salvato con successo in: C:/Users/al797/DSS LAB/cleaned_people.csv\n"
     ]
    }
   ],
   "source": [
    "file_path = \"C:/Users/al797/DSS LAB/cleaned_people.csv\"  \n",
    "\n",
    "with open(file_path, mode='w', newline='') as file:\n",
    "    writer = csv.DictWriter(file, fieldnames=people[0].keys())\n",
    "    writer.writeheader()\n",
    "    writer.writerows(people)\n",
    "\n",
    "print(f\"File salvato con successo in: {file_path}\")"
   ]
  },
  {
   "cell_type": "code",
   "execution_count": null,
   "id": "04e8c988",
   "metadata": {},
   "outputs": [],
   "source": []
  }
 ],
 "metadata": {
  "kernelspec": {
   "display_name": "Python 3 (ipykernel)",
   "language": "python",
   "name": "python3"
  },
  "language_info": {
   "codemirror_mode": {
    "name": "ipython",
    "version": 3
   },
   "file_extension": ".py",
   "mimetype": "text/x-python",
   "name": "python",
   "nbconvert_exporter": "python",
   "pygments_lexer": "ipython3",
   "version": "3.11.5"
  }
 },
 "nbformat": 4,
 "nbformat_minor": 5
}
